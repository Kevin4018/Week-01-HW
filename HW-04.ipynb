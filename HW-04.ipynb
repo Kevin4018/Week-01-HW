{
 "cells": [
  {
   "cell_type": "code",
   "execution_count": 1,
   "id": "2ea75556",
   "metadata": {
    "collapsed": true
   },
   "outputs": [
    {
     "data": {
      "text/plain": [
       "'When considering the original data. The standard deviation shows how the data are distributed. It talks about\\nhow individual data are spread out from the mean. The standard errror of the mean shows the variablities of a sample\\nmean could be. It measures how accurate the estimated mean represent the sample mean of the population.'"
      ]
     },
     "execution_count": 1,
     "metadata": {},
     "output_type": "execute_result"
    }
   ],
   "source": [
    "#Pre-Lecture\n",
    "#1\n",
    "\"\"\"When considering the original data. The standard deviation shows how the data are distributed. It talks about\n",
    "how individual data are spread out from the mean. The standard errror of the mean shows the variablities of a sample\n",
    "mean could be. It measures how accurate the estimated mean represent the sample mean of the population.\"\"\""
   ]
  },
  {
   "cell_type": "code",
   "execution_count": null,
   "id": "a76da27a",
   "metadata": {},
   "outputs": [],
   "source": [
    "#2\n",
    "\"\"\"In the video, it says that we can use a formula to directly create the confidence level of 95% through bootstrapping.\n",
    "First, we have to calculate the standard error of the mean by using the stardard deviation of bootstrapping divides\n",
    "by the root of the number of bootstrapping samples. Then, we use the mean of the bootstrapped sample means to plus\n",
    "or minus 1.96 times the standard error. The reason of using 1.96 here is that the z-score represent 95% of the data\n",
    "is between -1.96 and 1.96.\n",
    "\"\"\""
   ]
  },
  {
   "cell_type": "code",
   "execution_count": null,
   "id": "5e009df5",
   "metadata": {},
   "outputs": [],
   "source": [
    "#3\n",
    "\"\"\"First of all, using the original sample to create lots of bootstraps. Make sure each bootstrap has the same sample\n",
    "size with the original sample. Then calculate each bootstrapping sample's sample mean. Record the mean and make a \n",
    "distibution. For example, in the video, he uses a histogram to represent the distribution. Then, to find the 95% of\n",
    "confidence level, we can take 2.5th and 97.5th percentile of the distribution of the bootsrtapping sample mean. The\n",
    "area and interval between these two percentiles are the 95% bootrstrapped confidence level.\"\"\""
   ]
  },
  {
   "cell_type": "code",
   "execution_count": 2,
   "id": "dba48631",
   "metadata": {},
   "outputs": [
    {
     "name": "stdout",
     "output_type": "stream",
     "text": [
      "95% Bootstrap Confidence Interval for the Mean: [48.29335865 52.42808279]\n"
     ]
    }
   ],
   "source": [
    "#4\n",
    "import numpy as np\n",
    "\n",
    "# Sample data (replace with your data)\n",
    "data = np.random.normal(loc=50, scale=10, size=100)\n",
    "\n",
    "# Number of bootstrap samples\n",
    "n_bootstraps = 1000\n",
    "\n",
    "# Function to perform bootstrap\n",
    "def bootstrap(data, statistic_func, n_bootstraps):\n",
    "    \"\"\"\n",
    "    data: the sample data\n",
    "    statistic_func: the function that computes the statistic of interest (e.g., mean, median)\n",
    "    n_bootstraps: the number of bootstrap samples\n",
    "    \"\"\"\n",
    "    # Array to store the bootstrapped statistics\n",
    "    bootstrapped_statistics = np.zeros(n_bootstraps)\n",
    "    \n",
    "    # Generate bootstrap samples and calculate statistic for each\n",
    "    for i in range(n_bootstraps):\n",
    "        # Resample data with replacement\n",
    "        bootstrap_sample = np.random.choice(data, size=len(data), replace=True)\n",
    "        # Calculate the statistic (mean, median, etc.)\n",
    "        bootstrapped_statistics[i] = statistic_func(bootstrap_sample)\n",
    "    \n",
    "    return bootstrapped_statistics\n",
    "\n",
    "# Statistic of interest: Mean (you can change this to median or others)\n",
    "statistic_func = np.mean\n",
    "\n",
    "# Perform bootstrap to get bootstrapped means\n",
    "bootstrapped_means = bootstrap(data, statistic_func, n_bootstraps)\n",
    "\n",
    "# Calculate 95% confidence interval (2.5th and 97.5th percentiles)\n",
    "confidence_interval = np.percentile(bootstrapped_means, [2.5, 97.5])\n",
    "\n",
    "# Display the results\n",
    "print(f\"95% Bootstrap Confidence Interval for the Mean: {confidence_interval}\")\n",
    "\n",
    "# ------------------- #\n",
    "# To calculate the confidence interval for another population parameter, such as the median:\n",
    "# Replace np.mean with np.median in the statistic_func definition\n",
    "\n",
    "# Example:\n",
    "# statistic_func = np.median\n",
    "# bootstrapped_medians = bootstrap(data, statistic_func, n_bootstraps)\n",
    "# confidence_interval_median = np.percentile(bootstrapped_medians, [2.5, 97.5])\n",
    "# print(f\"95% Bootstrap Confidence Interval for the Median: {confidence_interval_median}\")\n",
    "# ------------------- #\n"
   ]
  },
  {
   "cell_type": "markdown",
   "id": "6831e89b",
   "metadata": {},
   "source": [
    "Summary:\n",
    "    Today, we discussed how to use the **standard error of the mean (SEM)** to create a 95% confidence interval for bootstrapped sample means. I explained the steps for calculating the interval, which involves obtaining bootstrapped sample means, computing the SEM, and using the critical value from a normal distribution (typically 1.96 for 95% confidence).\n",
    "\n",
    "Next, I provided Python code to produce a 95% bootstrap confidence interval for a population mean based on a sample. I also showed how to modify the code to compute confidence intervals for other population parameters, such as the **median**, by simply changing the statistic function (e.g., `np.mean` to `np.median`).\n",
    "\n",
    "Would you like to continue exploring or have further questions?\n",
    "\n",
    "Link: https://chatgpt.com/share/66fb53ed-0eb4-800d-8f85-aeaa52419930"
   ]
  },
  {
   "cell_type": "code",
   "execution_count": null,
   "id": "a81ce37b",
   "metadata": {},
   "outputs": [],
   "source": [
    "#Post-Lecture\n",
    "#5\n",
    "\"\"\"Since they are two really different concept including when we are discussing about confidence level. Population\n",
    "parameter is a value that describes the chracteristics of a data, for example, the mean of the population. However,\n",
    "these values are really hard to get because it's really difficult to find a data to represent the whole population.\n",
    "Sample statistics are the values that calculated throught the sample. It represents the characteristic of that\n",
    "sample. Therefore, it is more like an estimate of the population of parameter.\"\"\""
   ]
  },
  {
   "cell_type": "code",
   "execution_count": null,
   "id": "9ecddd37",
   "metadata": {},
   "outputs": [],
   "source": [
    "#6 \n",
    "\"\"\"1. Bootstrapping is a method of estimating the distribution of a sample statistic. It resample the original\n",
    "sample. \"\"\"\n",
    "\n",
    "\"\"\"2. The purpose is to estimate the population's parameter in a way without relying on the parameter's assumption\"\"\"\n",
    "\n",
    "\"\"\"3. Collect  the sample data of size n from the population. Then, Compute the mean of the sample. Use Bootstrap \n",
    "ping to resample. Resample from the original sample with replacement to create a bootstrap sample with the same \n",
    "size of the sample data. Calculate the mean for this bootstrap sample and build the bootstrap distribution. Collect\n",
    "all the bootstrap sample means to create a bootstrap distribution of the mean. Calculate confidence intervals for \n",
    "the bootstrap distribution. For example, you can compute the 2.5th and 97.5th percentiles to create a 95% confidence \n",
    "interval.\"\"\""
   ]
  },
  {
   "cell_type": "code",
   "execution_count": null,
   "id": "112fd6c4",
   "metadata": {},
   "outputs": [],
   "source": [
    "#7\n",
    "\"\"\"When the confidence interval overlaps with zero, it indicates that zero is a reasonable value for the overall \n",
    "parameter. In hypothesis testing, the null hypothesis usually indicates no effect or no difference. Even if the \n",
    "observed sample mean is not zero, the overlap indicates that the uncertainty in estimating the overall mean is such \n",
    "that the true mean may actually be zero. Therefore, you do not have enough evidence to reject the null hypothesis.\n",
    "You will reject the null hypothesis when the confidence interval does not overlap with zero. This means that zero \n",
    "is not a reasonable value for the overall parameter based on the sample data.\"\"\""
   ]
  },
  {
   "cell_type": "code",
   "execution_count": null,
   "id": "6e969131",
   "metadata": {},
   "outputs": [],
   "source": [
    "#8\n",
    "# Import Libraries\n",
    "import pandas as pd\n",
    "import numpy as np\n",
    "import seaborn as sns\n",
    "import matplotlib.pyplot as plt\n",
    "\n",
    "# Load the Data from CSV file\n",
    "data = pd.read_csv('vaccine_data.csv')\n",
    "\n",
    "# Calculate the Change in Health Scores\n",
    "data['HealthChange'] = data['FinalHealthScore'] - data['InitialHealthScore']\n",
    "\n",
    "# Data Visualization: Boxplot to visualize Initial and Final Health Scores\n",
    "plt.figure(figsize=(10, 6))\n",
    "sns.boxplot(data=[data['InitialHealthScore'], data['FinalHealthScore']], \n",
    "            palette='Set3')\n",
    "plt.xticks([0, 1], ['Initial Health Score', 'Final Health Score'])\n",
    "plt.ylabel('Health Score')\n",
    "plt.title('Comparison of Initial and Final Health Scores')\n",
    "plt.show()\n",
    "\n",
    "# Bootstrapping Analysis\n",
    "np.random.seed(42)  # For reproducibility\n",
    "n_iterations = 10000\n",
    "bootstrapped_means = []\n",
    "\n",
    "# Generate Bootstrap Samples and Calculate the Mean Change\n",
    "for _ in range(n_iterations):\n",
    "    sample = np.random.choice(data['HealthChange'], size=len(data), replace=True)\n",
    "    bootstrapped_means.append(np.mean(sample))\n",
    "\n",
    "# Calculate the 95% Confidence Interval\n",
    "lower_bound = np.percentile(bootstrapped_means, 2.5)\n",
    "upper_bound = np.percentile(bootstrapped_means, 97.5)\n",
    "\n",
    "# Supporting Visualization: Histogram of Bootstrapped Means\n",
    "plt.figure(figsize=(10, 6))\n",
    "plt.hist(bootstrapped_means, bins=30, color='skyblue', edgecolor='black')\n",
    "plt.axvline(x=0, color='red', linestyle='--', label='Null Hypothesis Mean (0)')\n",
    "plt.axvline(x=lower_bound, color='green', linestyle='--', label='Lower CI Bound')\n",
    "plt.axvline(x=upper_bound, color='green', linestyle='--', label='Upper CI Bound')\n",
    "plt.title('Bootstrapped Distribution of Health Changes')\n",
    "plt.xlabel('Bootstrapped Mean Changes')\n",
    "plt.ylabel('Frequency')\n",
    "plt.legend()\n",
    "plt.show()\n",
    "\n",
    "# Findings and Discussion\n",
    "print(f\"Bootstrapped Mean Change in Health Scores: {np.mean(bootstrapped_means):.2f}\")\n",
    "print(f\"95% Confidence Interval: [{lower_bound:.2f}, {upper_bound:.2f}]\")\n",
    "\n",
    "# Conclusion regarding Null Hypothesis\n",
    "if lower_bound > 0:\n",
    "    conclusion = \"Reject the null hypothesis: The vaccine has a statistically significant positive effect on health scores.\"\n",
    "else:\n",
    "    conclusion = \"Fail to reject the null hypothesis: The vaccine does not show a statistically significant effect on health scores.\"\n",
    "\n",
    "print(conclusion)"
   ]
  },
  {
   "cell_type": "code",
   "execution_count": null,
   "id": "c8a6b11f",
   "metadata": {},
   "outputs": [],
   "source": [
    "#9\n",
    "#Yes"
   ]
  },
  {
   "cell_type": "markdown",
   "id": "f0ae4f27",
   "metadata": {},
   "source": [
    "Certainly! Here’s a concise summary of the Vaccine Data Analysis Assignment:\n",
    "\n",
    "### Summary of the Vaccine Data Analysis Assignment\n",
    "\n",
    "1. **Objective**:\n",
    "   - The main goal was to evaluate the effectiveness of a new vaccine developed by AliTech by analyzing the health scores of patients before and after vaccination.\n",
    "\n",
    "2. **Null Hypothesis**:\n",
    "   - We defined the null hypothesis (\\(H_0\\)) as stating that the vaccine has no effect on health scores, meaning the average change in health scores before and after vaccination is zero.\n",
    "\n",
    "3. **Data Description**:\n",
    "   - The dataset included patient information with columns for Patient ID, Age, Gender, Initial Health Score, and Final Health Score.\n",
    "\n",
    "4. **Data Preparation**:\n",
    "   - We calculated the change in health scores by subtracting the initial health scores from the final health scores for each patient.\n",
    "\n",
    "5. **Data Visualization**:\n",
    "   - A box plot was created to visually compare the initial and final health scores, providing insight into the data distribution and potential changes due to the vaccine.\n",
    "\n",
    "6. **Bootstrapping Analysis**:\n",
    "   - We performed bootstrapping to estimate the distribution of the change in health scores. This involved generating numerous bootstrap samples and calculating the mean change for each sample.\n",
    "   - A 95% confidence interval was calculated from the bootstrapped means to assess whether zero (the null hypothesis mean) was a plausible value.\n",
    "\n",
    "7. **Supporting Visualization**:\n",
    "   - A histogram of the bootstrapped means was plotted, illustrating the distribution and including lines for the null hypothesis mean (0) and the confidence interval bounds.\n",
    "\n",
    "8. **Findings**:\n",
    "   - The bootstrapped mean change in health scores and the corresponding 95% confidence interval were printed to summarize the results.\n",
    "\n",
    "9. **Conclusion**:\n",
    "   - Based on the confidence interval, we made a decision regarding the null hypothesis:\n",
    "     - If the interval did not include zero, we rejected the null hypothesis, indicating that the vaccine had a statistically significant positive effect on health scores.\n",
    "     - If the interval included zero, we failed to reject the null hypothesis, suggesting no significant effect.\n",
    "\n",
    "10. **Reproducibility**:\n",
    "    - The analysis used `np.random.seed()` to ensure reproducibility of the bootstrap samples.\n",
    "\n",
    "### Next Steps:\n",
    "- You can further discuss limitations, potential biases, or other factors influencing health scores in your written report. Additional analyses could be performed, such as stratifying by age or gender to assess the vaccine's effectiveness across different demographic groups.\n",
    "\n",
    "This summary encapsulates the key components of your analysis and the logical flow from hypothesis formulation to conclusion. If you need any further elaboration or specific details, feel free to ask!\n",
    "\n",
    "Link: https://chatgpt.com/share/66fb614a-6a70-800d-8bf9-dfd80a36420e"
   ]
  }
 ],
 "metadata": {
  "kernelspec": {
   "display_name": "Python 3 (ipykernel)",
   "language": "python",
   "name": "python3"
  },
  "language_info": {
   "codemirror_mode": {
    "name": "ipython",
    "version": 3
   },
   "file_extension": ".py",
   "mimetype": "text/x-python",
   "name": "python",
   "nbconvert_exporter": "python",
   "pygments_lexer": "ipython3",
   "version": "3.11.6"
  }
 },
 "nbformat": 4,
 "nbformat_minor": 5
}
